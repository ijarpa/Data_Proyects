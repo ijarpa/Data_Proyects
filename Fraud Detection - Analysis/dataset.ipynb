{
 "cells": [
  {
   "cell_type": "markdown",
   "metadata": {},
   "source": [
    "# Detección de Fraude en Transacciones Bancarias\n",
    "\n",
    "### Descripción del Proyecto\n",
    "Este proyecto simula transacciones bancarias con datos de transacciones y detecta patrones de fraude.  \n",
    "Se analizan transacciones sospechosas usando Python y Power BI.\n",
    "\n",
    "## Objetivos: 🔍 \n",
    "✔️ **Montos inusualmente altos**.  \n",
    "✔️ **Métodos de pago sospechosos (Ej: Criptomonedas en grandes cantidades)**.  \n",
    "✔️ **Usuarios con transacciones en distintos países en un tiempo corto**.  \n",
    "\n",
    "## Visualización en Power BI? 📊\n",
    "1️⃣ **Mapa de transacciones** 📍: Ubicaciones de las transacciones por usuario.  \n",
    "2️⃣ **Gráfico de tiempo** ⏳: Identifica usuarios con actividad en lugares distantes en minutos.  \n",
    "3️⃣ **Lista de usuarios sospechosos** ⚠️: Quiénes tienen más actividad fraudulenta.  \n",
    "\n",
    "## Archivos del Proyecto 📂\n",
    "- `transacciones_fraudulentas.csv` → Dataset con transacciones.  \n",
    "- `fraude_bancario.ipynb` → Notebook con código.  \n",
    "- `fraude_bancario.pbix` → Reporte en Power BI *(Próximamente)*.  "
   ]
  },
  {
   "cell_type": "code",
   "execution_count": 1,
   "metadata": {},
   "outputs": [],
   "source": [
    "#librairies\n",
    "from faker import Faker\n",
    "import pandas as pd\n",
    "import numpy as np\n",
    "import random\n",
    "import matplotlib.pyplot as plt\n",
    "import seaborn as sns"
   ]
  },
  {
   "cell_type": "code",
   "execution_count": 3,
   "metadata": {},
   "outputs": [
    {
     "name": "stdout",
     "output_type": "stream",
     "text": [
      "✅ Dataset generated and saved as 'fraudulent_transactions.csv'\n"
     ]
    },
    {
     "data": {
      "application/vnd.microsoft.datawrangler.viewer.v0+json": {
       "columns": [
        {
         "name": "index",
         "rawType": "int64",
         "type": "integer"
        },
        {
         "name": "Transaction_ID",
         "rawType": "object",
         "type": "string"
        },
        {
         "name": "User_ID",
         "rawType": "object",
         "type": "string"
        },
        {
         "name": "Date",
         "rawType": "datetime64[ns]",
         "type": "datetime"
        },
        {
         "name": "Latitude",
         "rawType": "float64",
         "type": "float"
        },
        {
         "name": "Longitude",
         "rawType": "float64",
         "type": "float"
        },
        {
         "name": "Amount",
         "rawType": "float64",
         "type": "float"
        },
        {
         "name": "Payment_Method",
         "rawType": "object",
         "type": "string"
        },
        {
         "name": "Fraud",
         "rawType": "int32",
         "type": "integer"
        },
        {
         "name": "Location",
         "rawType": "object",
         "type": "string"
        }
       ],
       "ref": "80cf4c3f-3245-4d19-889a-f37c81ec17ce",
       "rows": [
        [
         "0",
         "f23c529d-2e68-4262-9dcc-2fbb283b0d1c",
         "be99d658-5b03-4820-81fa-d844f6c1b177",
         "2025-06-26 01:08:46",
         "40.31590566032038",
         "-74.3831717482428",
         "4227.46",
         "Bank Transfer",
         "0",
         "USA"
        ],
        [
         "1",
         "b69b0e78-984d-46df-82c9-0fff1eccb590",
         "e4b3bb4f-76d5-4554-9431-c517f76698fd",
         "2025-02-28 09:19:26",
         "40.7158582258776",
         "-74.06956892109103",
         "548.06",
         "Credit Card",
         "0",
         "USA"
        ],
        [
         "2",
         "ccfeb7cf-5990-4059-8d23-562df366b42e",
         "77dc3ab5-5c6c-4c08-b50d-f92476d05e6e",
         "2025-02-07 18:53:18",
         "-23.758750196519",
         "-47.091659604438945",
         "496.96",
         "Credit Card",
         "0",
         "Brazil"
        ],
        [
         "3",
         "d4719b32-a2c8-4227-8cf9-39a7e2768d6b",
         "d5d14583-ba51-4821-8c9e-63de2bd42057",
         "2025-02-11 13:32:16",
         "40.44448910966661",
         "-73.90483090898813",
         "683.87",
         "Credit Card",
         "0",
         "USA"
        ],
        [
         "4",
         "0361d6f6-9aa1-4a34-ad27-01f385d6e54e",
         "ddb6f081-6a90-47d6-966a-3e7ace02df70",
         "2025-05-05 07:52:34",
         "23.025686134663076",
         "-82.2682266591586",
         "4600.05",
         "Bank Transfer",
         "0",
         "Cuba"
        ]
       ],
       "shape": {
        "columns": 9,
        "rows": 5
       }
      },
      "text/html": [
       "<div>\n",
       "<style scoped>\n",
       "    .dataframe tbody tr th:only-of-type {\n",
       "        vertical-align: middle;\n",
       "    }\n",
       "\n",
       "    .dataframe tbody tr th {\n",
       "        vertical-align: top;\n",
       "    }\n",
       "\n",
       "    .dataframe thead th {\n",
       "        text-align: right;\n",
       "    }\n",
       "</style>\n",
       "<table border=\"1\" class=\"dataframe\">\n",
       "  <thead>\n",
       "    <tr style=\"text-align: right;\">\n",
       "      <th></th>\n",
       "      <th>Transaction_ID</th>\n",
       "      <th>User_ID</th>\n",
       "      <th>Date</th>\n",
       "      <th>Latitude</th>\n",
       "      <th>Longitude</th>\n",
       "      <th>Amount</th>\n",
       "      <th>Payment_Method</th>\n",
       "      <th>Fraud</th>\n",
       "      <th>Location</th>\n",
       "    </tr>\n",
       "  </thead>\n",
       "  <tbody>\n",
       "    <tr>\n",
       "      <th>0</th>\n",
       "      <td>f23c529d-2e68-4262-9dcc-2fbb283b0d1c</td>\n",
       "      <td>be99d658-5b03-4820-81fa-d844f6c1b177</td>\n",
       "      <td>2025-06-26 01:08:46</td>\n",
       "      <td>40.315906</td>\n",
       "      <td>-74.383172</td>\n",
       "      <td>4227.46</td>\n",
       "      <td>Bank Transfer</td>\n",
       "      <td>0</td>\n",
       "      <td>USA</td>\n",
       "    </tr>\n",
       "    <tr>\n",
       "      <th>1</th>\n",
       "      <td>b69b0e78-984d-46df-82c9-0fff1eccb590</td>\n",
       "      <td>e4b3bb4f-76d5-4554-9431-c517f76698fd</td>\n",
       "      <td>2025-02-28 09:19:26</td>\n",
       "      <td>40.715858</td>\n",
       "      <td>-74.069569</td>\n",
       "      <td>548.06</td>\n",
       "      <td>Credit Card</td>\n",
       "      <td>0</td>\n",
       "      <td>USA</td>\n",
       "    </tr>\n",
       "    <tr>\n",
       "      <th>2</th>\n",
       "      <td>ccfeb7cf-5990-4059-8d23-562df366b42e</td>\n",
       "      <td>77dc3ab5-5c6c-4c08-b50d-f92476d05e6e</td>\n",
       "      <td>2025-02-07 18:53:18</td>\n",
       "      <td>-23.758750</td>\n",
       "      <td>-47.091660</td>\n",
       "      <td>496.96</td>\n",
       "      <td>Credit Card</td>\n",
       "      <td>0</td>\n",
       "      <td>Brazil</td>\n",
       "    </tr>\n",
       "    <tr>\n",
       "      <th>3</th>\n",
       "      <td>d4719b32-a2c8-4227-8cf9-39a7e2768d6b</td>\n",
       "      <td>d5d14583-ba51-4821-8c9e-63de2bd42057</td>\n",
       "      <td>2025-02-11 13:32:16</td>\n",
       "      <td>40.444489</td>\n",
       "      <td>-73.904831</td>\n",
       "      <td>683.87</td>\n",
       "      <td>Credit Card</td>\n",
       "      <td>0</td>\n",
       "      <td>USA</td>\n",
       "    </tr>\n",
       "    <tr>\n",
       "      <th>4</th>\n",
       "      <td>0361d6f6-9aa1-4a34-ad27-01f385d6e54e</td>\n",
       "      <td>ddb6f081-6a90-47d6-966a-3e7ace02df70</td>\n",
       "      <td>2025-05-05 07:52:34</td>\n",
       "      <td>23.025686</td>\n",
       "      <td>-82.268227</td>\n",
       "      <td>4600.05</td>\n",
       "      <td>Bank Transfer</td>\n",
       "      <td>0</td>\n",
       "      <td>Cuba</td>\n",
       "    </tr>\n",
       "  </tbody>\n",
       "</table>\n",
       "</div>"
      ],
      "text/plain": [
       "                         Transaction_ID                               User_ID  \\\n",
       "0  f23c529d-2e68-4262-9dcc-2fbb283b0d1c  be99d658-5b03-4820-81fa-d844f6c1b177   \n",
       "1  b69b0e78-984d-46df-82c9-0fff1eccb590  e4b3bb4f-76d5-4554-9431-c517f76698fd   \n",
       "2  ccfeb7cf-5990-4059-8d23-562df366b42e  77dc3ab5-5c6c-4c08-b50d-f92476d05e6e   \n",
       "3  d4719b32-a2c8-4227-8cf9-39a7e2768d6b  d5d14583-ba51-4821-8c9e-63de2bd42057   \n",
       "4  0361d6f6-9aa1-4a34-ad27-01f385d6e54e  ddb6f081-6a90-47d6-966a-3e7ace02df70   \n",
       "\n",
       "                 Date   Latitude  Longitude   Amount Payment_Method  Fraud  \\\n",
       "0 2025-06-26 01:08:46  40.315906 -74.383172  4227.46  Bank Transfer      0   \n",
       "1 2025-02-28 09:19:26  40.715858 -74.069569   548.06    Credit Card      0   \n",
       "2 2025-02-07 18:53:18 -23.758750 -47.091660   496.96    Credit Card      0   \n",
       "3 2025-02-11 13:32:16  40.444489 -73.904831   683.87    Credit Card      0   \n",
       "4 2025-05-05 07:52:34  23.025686 -82.268227  4600.05  Bank Transfer      0   \n",
       "\n",
       "  Location  \n",
       "0      USA  \n",
       "1      USA  \n",
       "2   Brazil  \n",
       "3      USA  \n",
       "4     Cuba  "
      ]
     },
     "execution_count": 3,
     "metadata": {},
     "output_type": "execute_result"
    }
   ],
   "source": [
    "# Initialize Faker\n",
    "fake = Faker()\n",
    "\n",
    "num_transactions = 10_000  # Number of transactions to generate\n",
    "num_users = 500  # Number of unique users\n",
    "\n",
    "# Fraud probability (5,7% fraud)\n",
    "fraud_probability = 0.057\n",
    "\n",
    "# Dictionary of locations with coordinates (latitude, longitude)\n",
    "locations = {\n",
    "    \"Chile\": (-33.4489, -70.6693),\n",
    "    \"Argentina\": (-34.6037, -58.3816),\n",
    "    \"Colombia\": (4.6100, -74.0833),\n",
    "    \"Peru\": (-12.0464, -77.0428),\n",
    "    \"Mexico\": (19.4326, -99.1332),\n",
    "    \"Cuba\": (23.1136, -82.3666),\n",
    "    \"USA\": (40.7128, -74.0060),\n",
    "    \"Brazil\": (-23.5505, -46.6333),\n",
    "}\n",
    "\n",
    "# Payment methods and their probabilities in normal transactions\n",
    "payment_methods = ['Credit Card', 'Debit', 'Bank Transfer', 'Cryptocurrency']\n",
    "payment_probabilities = [0.35, 0.35, 0.25, 0.05]  # Adjusted probabilities\n",
    "\n",
    "# Fraudulent payment method probabilities\n",
    "fraud_payment_probabilities = [0.25, 0.2, 0.2, 0.35]  # More fraud in cryptocurrency\n",
    "\n",
    "# Generate a list of users that will be reused across multiple transactions\n",
    "users = [fake.uuid4() for _ in range(num_users)]\n",
    "\n",
    "data = []  # List to store transaction data\n",
    "\n",
    "for _ in range(num_transactions):\n",
    "    user_id = random.choice(users)  # Select a random user\n",
    "    \n",
    "    # Choose a random location\n",
    "    country, (lat, lon) = random.choice(list(locations.items()))\n",
    "    \n",
    "    # Introduce slight variations in the location to simulate real data\n",
    "    lat += np.random.uniform(-0.5, 0.5)\n",
    "    lon += np.random.uniform(-0.5, 0.5)\n",
    "    \n",
    "    # Determine if the transaction is fraudulent\n",
    "    is_fraud = np.random.choice([0, 1], p=[1 - fraud_probability, fraud_probability])  \n",
    "\n",
    "    # Assign payment method based on probability\n",
    "    if is_fraud == 1:\n",
    "        amount = round(np.random.uniform(3000, 30_000), 2)  # Higher fraudulent amounts\n",
    "        payment_method = np.random.choice(payment_methods, p=fraud_payment_probabilities)  # Fraud-prone methods\n",
    "    else:\n",
    "        amount = round(np.random.uniform(10, 5000), 2)  # Normal amount\n",
    "        payment_method = np.random.choice(payment_methods, p=payment_probabilities)  # Normal methods\n",
    "\n",
    "    # Append transaction to the list\n",
    "    data.append([\n",
    "        fake.uuid4(),  # Unique transaction ID\n",
    "        user_id,  # User ID (repeated in multiple transactions)\n",
    "        fake.date_time_this_year(),  # Date and time\n",
    "        lat,  # Latitude\n",
    "        lon,  # Longitude\n",
    "        amount,  # Transaction amount\n",
    "        payment_method,  # Payment method\n",
    "        is_fraud,  # 1 = Fraud, 0 = Normal\n",
    "        country  # Country name\n",
    "    ])\n",
    "\n",
    "# Convert to DataFrame\n",
    "df = pd.DataFrame(data, columns=['Transaction_ID', 'User_ID', 'Date', 'Latitude', 'Longitude', 'Amount', 'Payment_Method', 'Fraud', 'Location'])\n",
    "\n",
    "# Save as CSV for Power BI\n",
    "df.to_csv('fraudulent_transactions.csv', index=False)\n",
    "\n",
    "print(\"✅ Dataset generated and saved as 'fraudulent_transactions.csv'\")\n",
    "\n",
    "df.head()"
   ]
  },
  {
   "cell_type": "code",
   "execution_count": 3,
   "metadata": {},
   "outputs": [
    {
     "name": "stdout",
     "output_type": "stream",
     "text": [
      "Number of fraudulent transactions: 581\n"
     ]
    }
   ],
   "source": [
    "#count number of rows equal to 1 in Fraud column\n",
    "fraud_count = df['Fraud'].value_counts().get(1, 0)\n",
    "print(f\"Number of fraudulent transactions: {fraud_count}\")  "
   ]
  },
  {
   "cell_type": "code",
   "execution_count": 5,
   "metadata": {},
   "outputs": [
    {
     "name": "stderr",
     "output_type": "stream",
     "text": [
      "c:\\Users\\ivana\\anaconda3\\Lib\\site-packages\\seaborn\\_oldcore.py:1119: FutureWarning: use_inf_as_na option is deprecated and will be removed in a future version. Convert inf values to NaN before operating instead.\n",
      "  with pd.option_context('mode.use_inf_as_na', True):\n"
     ]
    },
    {
     "data": {
      "image/png": "[encoded data removed]",
      "text/plain": [
       "<Figure size 1000x500 with 1 Axes>"
      ]
     },
     "metadata": {},
     "output_type": "display_data"
    }
   ],
   "source": [
    "# Distribución de montos\n",
    "plt.figure(figsize=(10, 5))\n",
    "sns.histplot(df['Amount'], bins=50, kde=True)\n",
    "plt.title('Distribución de Montos de Transacciones')\n",
    "plt.xlabel('Monto')\n",
    "plt.ylabel('Frecuencia')\n",
    "plt.show()"
   ]
  },
  {
   "cell_type": "code",
   "execution_count": 6,
   "metadata": {},
   "outputs": [
    {
     "data": {
      "image/png": "[encoded data removed]",
      "text/plain": [
       "<Figure size 800x400 with 1 Axes>"
      ]
     },
     "metadata": {},
     "output_type": "display_data"
    }
   ],
   "source": [
    "# Métodos de pago más utilizados\n",
    "plt.figure(figsize=(8, 4))\n",
    "sns.countplot(data=df, x='Payment_Method', order=df['Payment_Method'].value_counts().index)\n",
    "plt.title('Métodos de Pago más Utilizados')\n",
    "plt.xticks(rotation=45)\n",
    "\n",
    "plt.show()"
   ]
  }
 ],
 "metadata": {
  "kernelspec": {
   "display_name": "base",
   "language": "python",
   "name": "python3"
  },
  "language_info": {
   "codemirror_mode": {
    "name": "ipython",
    "version": 3
   },
   "file_extension": ".py",
   "mimetype": "text/x-python",
   "name": "python",
   "nbconvert_exporter": "python",
   "pygments_lexer": "ipython3",
   "version": "3.11.7"
  }
 },
 "nbformat": 4,
 "nbformat_minor": 2
}
